{
 "cells": [
  {
   "cell_type": "markdown",
   "metadata": {},
   "source": [
    "# Assignment Final\n",
    "Los datos que se incluyen en el fichero `datos_ventas_centros_comerciales.csv` representan casi 100.000 compra-ventas realizadas en un grupo de Centros Comerciales durantes los años 2021 y 2022. \n",
    "\n",
    "Como analista del holding propietario de los centros comerciales realiza un analisis respondiendo a las siguiente preguntas."
   ]
  },
  {
   "cell_type": "code",
   "execution_count": 2,
   "metadata": {},
   "outputs": [],
   "source": [
    "import pandas as pd"
   ]
  },
  {
   "cell_type": "code",
   "execution_count": 3,
   "metadata": {},
   "outputs": [],
   "source": [
    "datos_ventas_dataframe = pd.read_csv(r'B:\\Personal Santi\\Data Science & Pyhton\\Master Nuclio\\Clases\\Python 101\\Proyecto final Python\\datos_ventas_centros_comerciales.csv')"
   ]
  },
  {
   "cell_type": "code",
   "execution_count": 19,
   "metadata": {},
   "outputs": [
    {
     "name": "stdout",
     "output_type": "stream",
     "text": [
      "  invoice_no customer_id  category  quantity    price invoice_date  \\\n",
      "0    I138884     C241288  Clothing         5  1500.40   2022-08-05   \n",
      "1    I317333     C111565     Shoes         3  1800.51   2021-12-12   \n",
      "2    I127801     C266599  Clothing         1   300.08   2021-11-09   \n",
      "3    I173702     C988172     Shoes         5  3000.85   2021-05-16   \n",
      "4    I337046     C189076     Books         4    60.60   2021-10-24   \n",
      "\n",
      "    shopping_mall  total_sales  \n",
      "0          Kanyon      7502.00  \n",
      "1  Forum Istanbul      5401.53  \n",
      "2       Metrocity       300.08  \n",
      "3    Metropol AVM     15004.25  \n",
      "4          Kanyon       242.40  \n",
      "-------------------\n",
      "           quantity         price                   invoice_date   total_sales\n",
      "count  90933.000000  90933.000000                          90933  90933.000000\n",
      "mean       3.004883    689.399127  2022-01-01 00:21:12.250997760   2529.306024\n",
      "min        1.000000      5.230000            2021-01-01 00:00:00      5.230000\n",
      "25%        2.000000     45.450000            2021-07-03 00:00:00    136.350000\n",
      "50%        3.000000    203.300000            2022-01-01 00:00:00    600.170000\n",
      "75%        4.000000   1200.320000            2022-07-02 00:00:00   2700.720000\n",
      "max        5.000000   5250.000000            2022-12-31 00:00:00  26250.000000\n",
      "std        1.412633    940.241364                            NaN   4218.831875\n",
      "-------------------\n",
      "Columnas: Index(['invoice_no', 'customer_id', 'category', 'quantity', 'price',\n",
      "       'invoice_date', 'shopping_mall', 'total_sales'],\n",
      "      dtype='object')\n",
      "-------------------\n",
      "Size:  727464\n",
      "-------------------\n",
      "Shape: (90933, 8)\n",
      "-------------------\n",
      "dtype:  invoice_no               object\n",
      "customer_id              object\n",
      "category                 object\n",
      "quantity                  int64\n",
      "price                   float64\n",
      "invoice_date     datetime64[ns]\n",
      "shopping_mall            object\n",
      "total_sales             float64\n",
      "dtype: object\n"
     ]
    }
   ],
   "source": [
    "# Aplico algunos metodos y atributos para conocer un poco mas acerca de los datos\n",
    "\n",
    "print(datos_ventas_dataframe.head()) \n",
    "print(\"-------------------\")\n",
    "print(datos_ventas_dataframe.describe()) \n",
    "print(\"-------------------\")\n",
    "print('Columnas:', datos_ventas_dataframe.columns)\n",
    "print(\"-------------------\")\n",
    "print('Size: ', datos_ventas_dataframe.size) \n",
    "print(\"-------------------\")\n",
    "print('Shape:', datos_ventas_dataframe.shape)\n",
    "print(\"-------------------\")\n",
    "print('dtype: ', datos_ventas_dataframe.dtypes)"
   ]
  },
  {
   "cell_type": "markdown",
   "metadata": {},
   "source": [
    " ### Fechas:\n",
    "1. Transformo las fechas en datetime\n",
    "2. Filtro mi DF para trabajar solo con los años 2021 y 2022"
   ]
  },
  {
   "cell_type": "code",
   "execution_count": 5,
   "metadata": {},
   "outputs": [],
   "source": [
    "datos_ventas_dataframe['invoice_date'] = pd.to_datetime(datos_ventas_dataframe['invoice_date'], format='%d-%m-%Y')\n",
    "datos_ventas_dataframe = datos_ventas_dataframe[(datos_ventas_dataframe['invoice_date'].dt.year == 2021) | (datos_ventas_dataframe['invoice_date'].dt.year == 2022)]\n"
   ]
  },
  {
   "cell_type": "markdown",
   "metadata": {},
   "source": [
    " ### Columnas:\n",
    "1. Agregare la columna 'total_sales' al final de DF con el importe total de la factura ('price' * 'quantity')"
   ]
  },
  {
   "cell_type": "code",
   "execution_count": 6,
   "metadata": {},
   "outputs": [],
   "source": [
    "datos_ventas_dataframe['total_sales'] = datos_ventas_dataframe['price'] * datos_ventas_dataframe['quantity']"
   ]
  },
  {
   "cell_type": "code",
   "execution_count": 7,
   "metadata": {},
   "outputs": [
    {
     "name": "stdout",
     "output_type": "stream",
     "text": [
      "<class 'pandas.core.frame.DataFrame'>\n",
      "Index: 90933 entries, 0 to 99456\n",
      "Data columns (total 8 columns):\n",
      " #   Column         Non-Null Count  Dtype         \n",
      "---  ------         --------------  -----         \n",
      " 0   invoice_no     90933 non-null  object        \n",
      " 1   customer_id    90933 non-null  object        \n",
      " 2   category       90933 non-null  object        \n",
      " 3   quantity       90933 non-null  int64         \n",
      " 4   price          90933 non-null  float64       \n",
      " 5   invoice_date   90933 non-null  datetime64[ns]\n",
      " 6   shopping_mall  90933 non-null  object        \n",
      " 7   total_sales    90933 non-null  float64       \n",
      "dtypes: datetime64[ns](1), float64(2), int64(1), object(4)\n",
      "memory usage: 6.2+ MB\n"
     ]
    }
   ],
   "source": [
    "datos_ventas_dataframe.info()"
   ]
  },
  {
   "cell_type": "markdown",
   "metadata": {},
   "source": [
    "# 1. ¿Cuál es el total de ingresos generados por todas las ventas registradas?\n",
    "Guarda el resultado de una variable llamada `total_ingresos`\n",
    "\n"
   ]
  },
  {
   "cell_type": "code",
   "execution_count": 8,
   "metadata": {},
   "outputs": [
    {
     "name": "stdout",
     "output_type": "stream",
     "text": [
      "El total de los ingresos por ventas registradas fue de: 229997384.67\n"
     ]
    }
   ],
   "source": [
    "# La funcion devuelve el total de ingresos de todas las ventas registradas.\n",
    "\n",
    "def total_ventas (dataframe_de_ventas):\n",
    "\n",
    "    ventas = dataframe_de_ventas['total_sales'].sum() \n",
    "\n",
    "    return ventas\n",
    "\n",
    "total_ingresos = total_ventas(datos_ventas_dataframe) \n",
    "print(f'El total de los ingresos por ventas registradas fue de: {round(total_ingresos,2)}')"
   ]
  },
  {
   "cell_type": "markdown",
   "metadata": {},
   "source": [
    "# 2. ¿Cuál es el centro comercial que ha generado más ventas?\n",
    "Guarda el resultado de una variable llamada `centro_comercial_mas_ventas`\n"
   ]
  },
  {
   "cell_type": "code",
   "execution_count": 28,
   "metadata": {},
   "outputs": [
    {
     "name": "stdout",
     "output_type": "stream",
     "text": [
      "El Centro comercial que ha generado mas cantidad de ventas es: Mall of Istanbul\n"
     ]
    }
   ],
   "source": [
    "# La funcion agrupa por CC y devuelve el de mayor cantidad de operaciones contando las facturas.\n",
    "\n",
    "def mayor_cantidad_de_ventas (dataframe_de_ventas):\n",
    "\n",
    "    ventas_por_centro = dataframe_de_ventas.groupby('shopping_mall')['invoice_no'].count() \n",
    "    cc_mas_ventas = ventas_por_centro.idxmax()\n",
    "\n",
    "    return cc_mas_ventas\n",
    "\n",
    "centro_comercial_mas_ventas = mayor_cantidad_de_ventas(datos_ventas_dataframe) \n",
    "print(f'El Centro comercial que ha generado mas cantidad de ventas es: {centro_comercial_mas_ventas}')\n"
   ]
  },
  {
   "cell_type": "markdown",
   "metadata": {},
   "source": [
    "# 3. ¿Cuál es la categoría de producto que ha generado mas ventas? \n",
    "Guarda el resultado de una variable llamada `categoria_mas_vendida`\n"
   ]
  },
  {
   "cell_type": "code",
   "execution_count": 10,
   "metadata": {},
   "outputs": [
    {
     "name": "stdout",
     "output_type": "stream",
     "text": [
      "La categoria que ha generado mas cantidad de ventas es: Clothing\n"
     ]
    }
   ],
   "source": [
    "# Para esta pregunta se podria usar el mismo metodo que en el punto 2. Pero hare una funcion que itere sobre las categorias y guarde el resultado en un diccionario para luego obtener el mayor.\n",
    "\n",
    "ventas_por_categoria = {} \n",
    "\n",
    "def mayores_ventas_categoria (dataframe_de_ventas):\n",
    "\n",
    "# Itera sobre la columna 'category'. Crea la clave en el diccionario y va sumando 1 cada vez que aparece.\n",
    "    for categoria in dataframe_de_ventas['category']:\n",
    "        if categoria in ventas_por_categoria:\n",
    "            ventas_por_categoria[categoria] += 1\n",
    "        else:\n",
    "            ventas_por_categoria[categoria] = 1\n",
    "\n",
    "    return max(ventas_por_categoria, key=ventas_por_categoria.get) \n",
    "\n",
    "categoria_mas_vendida = mayores_ventas_categoria (datos_ventas_dataframe)\n",
    "print(f'La categoria que ha generado mas cantidad de ventas es: {categoria_mas_vendida}') \n",
    "\n"
   ]
  },
  {
   "cell_type": "markdown",
   "metadata": {},
   "source": [
    "# 4. ¿Cuál es el producto más caro vendido?\n",
    "Guarda el resultado de una variable llamada `categoria_producto_mas_caro`\n",
    "\n"
   ]
  },
  {
   "cell_type": "code",
   "execution_count": 30,
   "metadata": {},
   "outputs": [
    {
     "name": "stdout",
     "output_type": "stream",
     "text": [
      "El producto mas caro vendido es: Technology\n"
     ]
    }
   ],
   "source": [
    "# La funcion ordena el Dataframe por precio descendiente. Luego resetea el indice para poder seleccionar el primer elemento(mas alto).\n",
    "\n",
    "def categoria_de_mayor_precio (dataframe_de_ventas):\n",
    "\n",
    "    df_sortby_price = dataframe_de_ventas.sort_values(by='price',ascending=False)\n",
    "    df_sortby_price.reset_index() \n",
    "\n",
    "    return df_sortby_price.iloc[0]['category']\n",
    "\n",
    "\n",
    "categoria_producto_mas_caro = categoria_de_mayor_precio (datos_ventas_dataframe)\n",
    "print(f'El producto mas caro vendido es: {categoria_producto_mas_caro}')\n"
   ]
  },
  {
   "cell_type": "markdown",
   "metadata": {},
   "source": [
    "# 5. ¿Cuál es la factura más antigua registrada en el dataset?\n",
    "Guarda el resultado de una variable llamada `factura_mas_antigua`\n"
   ]
  },
  {
   "cell_type": "code",
   "execution_count": 32,
   "metadata": {},
   "outputs": [
    {
     "name": "stdout",
     "output_type": "stream",
     "text": [
      "La factura mas antigua registrada es la I100473\n"
     ]
    }
   ],
   "source": [
    "# La funcion devuelve una la factura mas antigua y su fecha. Ordenando el dataframe por fecha y numero de factura de forma ascendente, devolviendo el primer elemento de la lista.\n",
    "def factura_mas_antigua (dataframe_de_ventas):\n",
    "\n",
    "    df_sortby_invoice_date = dataframe_de_ventas.sort_values(by=['invoice_date' , 'invoice_no'] , ascending=True)\n",
    "    df_sortby_invoice_date.reset_index()\n",
    "\n",
    "    fact_mas_antigua = df_sortby_invoice_date.iloc[0]['invoice_no']\n",
    "    \n",
    "    return fact_mas_antigua\n",
    "\n",
    "\n",
    "factura_mas_antigua = factura_mas_antigua (datos_ventas_dataframe)\n",
    "print(f'La factura mas antigua registrada es la {factura_mas_antigua}')"
   ]
  },
  {
   "cell_type": "markdown",
   "metadata": {},
   "source": [
    "# 6. ¿Cuál es la cantidad promedio de productos vendidos por transacción?\n",
    "Guarda el resultado de una variable llamada `cantidad_promedio_por_transaccion`\n",
    "\n"
   ]
  },
  {
   "cell_type": "code",
   "execution_count": 21,
   "metadata": {},
   "outputs": [
    {
     "name": "stdout",
     "output_type": "stream",
     "text": [
      "La cantidad promedio de productos vendidos por operacion es de 3.005 productos\n"
     ]
    }
   ],
   "source": [
    "# La funcion calcula el promedio de podructos vendidos por transaccion.\n",
    "\n",
    "def promedio_transacciones (dataframe_de_ventas):\n",
    "\n",
    "    promedio_transacciones = dataframe_de_ventas['quantity'].mean()\n",
    "    return promedio_transacciones\n",
    "\n",
    "cantidad_promedio_por_transaccion = promedio_transacciones (datos_ventas_dataframe)\n",
    "print(f'La cantidad promedio de productos vendidos por operacion es de {round(cantidad_promedio_por_transaccion,3)} productos')\n"
   ]
  },
  {
   "cell_type": "markdown",
   "metadata": {},
   "source": [
    "# 7. ¿Cuál es el día con más ventas registradas?\n",
    "Guarda el resultado de una variable llamada `dia_con_mas_ventas`\n"
   ]
  },
  {
   "cell_type": "code",
   "execution_count": 14,
   "metadata": {},
   "outputs": [
    {
     "name": "stdout",
     "output_type": "stream",
     "text": [
      "El día con más ventas fue el 2021-11-24, con 159 facturas.\n"
     ]
    }
   ],
   "source": [
    "# La funcion agrupa por fecha de factura y cuenta la cantidad de facturas que hubo. Luego devuelve el dia y la cantidad con mas facturas.\n",
    "\n",
    "def dia_mayores_ventas(dataframe_de_ventas):\n",
    "    \n",
    "    ventas_por_dia = dataframe_de_ventas.groupby('invoice_date')['invoice_no'].count()\n",
    "\n",
    "    dia_mas_ventas = ventas_por_dia.idxmax()\n",
    "    cantidad_ventas = ventas_por_dia.max()\n",
    "\n",
    "    return dia_mas_ventas, cantidad_ventas\n",
    "\n",
    "dia_con_mas_ventas, cantidad_ventas = dia_mayores_ventas(datos_ventas_dataframe)\n",
    "print(f'El día con más ventas fue el {dia_con_mas_ventas.date()}, con {cantidad_ventas} facturas.')\n"
   ]
  },
  {
   "cell_type": "markdown",
   "metadata": {},
   "source": [
    "# 8. ¿Cuál es el cliente que más ha gastado en total?\n",
    "Guarda el resultado de una variable llamada `cliente_que_mas_gasto`\n"
   ]
  },
  {
   "cell_type": "code",
   "execution_count": 26,
   "metadata": {},
   "outputs": [
    {
     "name": "stdout",
     "output_type": "stream",
     "text": [
      "El cliente C100168 fue el que mas gastó\n"
     ]
    }
   ],
   "source": [
    "# La funcion agrupa por cliente y suma el importe total de ventas para cada uno. Luego devuelve el cliente con mayor importe. \n",
    "\n",
    "def cliente_que_mas_gasto (dataframe_de_ventas):\n",
    "    \n",
    "    mayor_cliente = dataframe_de_ventas.groupby('customer_id')['total_sales'].sum()\n",
    "    cliente = mayor_cliente.idxmax()\n",
    "    \n",
    "    return cliente\n",
    "\n",
    "cliente_que_mas_gasto = cliente_que_mas_gasto(datos_ventas_dataframe)\n",
    "print(f'El cliente {cliente_que_mas_gasto} fue el que mas gastó')"
   ]
  },
  {
   "cell_type": "markdown",
   "metadata": {},
   "source": [
    "# 9. ¿Cuál es la factura con el precio total más alto?\n",
    "Guarda el resultado de una variable llamada `factura_max_valor`\n"
   ]
  },
  {
   "cell_type": "code",
   "execution_count": 35,
   "metadata": {},
   "outputs": [
    {
     "name": "stdout",
     "output_type": "stream",
     "text": [
      "La factura de mayor importe es la I100072\n"
     ]
    }
   ],
   "source": [
    "# Para esta consigna voy a asumir que se busca el valor total mas alto y no el precio unitario mas alto.\n",
    "# La funcion ordena por importe total de ventas y cliente. Devuelve la factura y el importe de la venta mas grande.\n",
    "\n",
    "def factura_mas_alta (dataframe_de_ventas):\n",
    "\n",
    "    venta_mas_grande = dataframe_de_ventas.sort_values(by=['total_sales','invoice_no'], ascending=[False,True])\n",
    "\n",
    "    return venta_mas_grande.iloc[0].invoice_no\n",
    "\n",
    "factura_max_valor = factura_mas_alta(datos_ventas_dataframe)\n",
    "print(f'La factura de mayor importe es la {factura_max_valor}')"
   ]
  },
  {
   "cell_type": "markdown",
   "metadata": {},
   "source": [
    "# 10. ¿Cuál es la distribución porcentual de ventas por categoría de producto?\n",
    "Guarda el resultado de una variable llamada `distribucion_porcentual_ventas_por_categoria`. El tipo de `distribucion_porcentual_ventas_por_categoria` debe ser `pandas.core.series.Series` donde las etiquetas deben ser las categorias y los valores deben ser la distribucion porcentual de las ventas por categoría\n",
    "\n",
    "\n"
   ]
  },
  {
   "cell_type": "code",
   "execution_count": 17,
   "metadata": {},
   "outputs": [
    {
     "data": {
      "text/plain": [
       "category\n",
       "Clothing           34.68%\n",
       "Cosmetics          15.12%\n",
       "Food & Beverage    14.88%\n",
       "Toys               10.18%\n",
       "Shoes              10.10%\n",
       "Technology          5.03%\n",
       "Souvenir            5.03%\n",
       "Books               4.99%\n",
       "Name: Distribucion porcentual de ventas por categoria, dtype: object"
      ]
     },
     "execution_count": 17,
     "metadata": {},
     "output_type": "execute_result"
    }
   ],
   "source": [
    "# Para esta consigna voy a usar la cantidad de operaciones(facturas) para determinar la distribucion porcentual.\n",
    "\n",
    "#1- Primeramente la funcion agrupa el DF por categoria de producto y cuenta las operaciones en cada una.\n",
    "#2- Se asigna una variable al total de operaciones de nuestro DF.\n",
    "#3- Finalmente, divide los totales de categoria por el total de operaciones, y devuelve el resultado en una Serie de Pandas, ordenado de mayor a menor, expresado en %.\n",
    "\n",
    "def distribucion_por_categoria (dataframe_de_ventas):\n",
    "\n",
    "    ventas_por_categ = dataframe_de_ventas.groupby('category')['invoice_no'].count()\n",
    "    total_operaciones = len(datos_ventas_dataframe)\n",
    "    distribucion_por_categoria = (ventas_por_categ / total_operaciones) * 100\n",
    "\n",
    "    return pd.Series(distribucion_por_categoria, name = 'Distribucion porcentual de ventas por categoria').sort_values(ascending=False).map('{:.2f}%'.format)\n",
    "\n",
    "distribucion_porcentual_ventas_por_categoria = distribucion_por_categoria (datos_ventas_dataframe)\n",
    "distribucion_porcentual_ventas_por_categoria"
   ]
  },
  {
   "cell_type": "markdown",
   "metadata": {},
   "source": [
    "# 11. ¿Cuál es el día de la semana con más ventas registradas en cada centro comercial?\n",
    "Guarda el resultado de una variable llamada `dia_semana_mas_ventas_por_centro`. El tipo de `dia_semana_mas_ventas_por_centro` debe ser `pandas.core.series.Series` donde las etiquetas deben ser el nombre de los centros comerciales y los valores deben ser el nombre del dia de la semana con mas ventas."
   ]
  },
  {
   "cell_type": "code",
   "execution_count": 18,
   "metadata": {},
   "outputs": [
    {
     "data": {
      "text/plain": [
       "shopping_mall\n",
       "Cevahir AVM           Sunday\n",
       "Emaar Square Mall     Friday\n",
       "Forum Istanbul        Monday\n",
       "Istinye Park          Friday\n",
       "Kanyon                Monday\n",
       "Mall of Istanbul     Tuesday\n",
       "Metrocity             Monday\n",
       "Metropol AVM         Tuesday\n",
       "Viaport Outlet        Friday\n",
       "Zorlu Center         Tuesday\n",
       "Name: Dia de la semana con mas ventas, dtype: object"
      ]
     },
     "execution_count": 18,
     "metadata": {},
     "output_type": "execute_result"
    }
   ],
   "source": [
    "# La funcion agrupa por 'shopping_mall' y fecha de invoice, para luego contar cuantas invoices hay. Devuelve el nombre del dia que mas ventas hubo por centro.\n",
    "\n",
    "def nombre_dia_mas_ventas (dataframe_de_ventas):\n",
    "\n",
    "    ventas_por_dia = dataframe_de_ventas.groupby(['shopping_mall',dataframe_de_ventas['invoice_date'].dt.day_name()])['invoice_no'].count()\n",
    "    dia_mas_ventas_por_cc = ventas_por_dia.groupby('shopping_mall').idxmax().str[1]\n",
    "    dia_mas_ventas_por_cc = dia_mas_ventas_por_cc.rename('Dia de la semana con mas ventas')\n",
    "    return  dia_mas_ventas_por_cc\n",
    "\n",
    "dia_semana_mas_ventas_por_centro = nombre_dia_mas_ventas (datos_ventas_dataframe)\n",
    "dia_semana_mas_ventas_por_centro"
   ]
  }
 ],
 "metadata": {
  "kernelspec": {
   "display_name": "Python 3",
   "language": "python",
   "name": "python3"
  },
  "language_info": {
   "codemirror_mode": {
    "name": "ipython",
    "version": 3
   },
   "file_extension": ".py",
   "mimetype": "text/x-python",
   "name": "python",
   "nbconvert_exporter": "python",
   "pygments_lexer": "ipython3",
   "version": "3.11.8"
  }
 },
 "nbformat": 4,
 "nbformat_minor": 2
}
